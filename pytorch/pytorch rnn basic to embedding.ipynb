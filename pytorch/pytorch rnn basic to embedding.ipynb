{
 "cells": [
  {
   "cell_type": "code",
   "execution_count": 1,
   "id": "681e7416",
   "metadata": {
    "ExecuteTime": {
     "end_time": "2024-02-22T01:34:05.631412Z",
     "start_time": "2024-02-22T01:34:01.088510Z"
    }
   },
   "outputs": [
    {
     "name": "stdout",
     "output_type": "stream",
     "text": [
      "Python version: 3.9.7 (default, Sep 16 2021, 16:59:28) [MSC v.1916 64 bit (AMD64)]\n",
      "torch 2.2.0+cpu\n",
      "numpy 1.19.5\n"
     ]
    }
   ],
   "source": [
    "import sys\n",
    "import numpy as np\n",
    "import torch\n",
    "\n",
    "print(\"Python version:\", sys.version)\n",
    "print('torch', torch.__version__)\n",
    "print('numpy', np.__version__)\n",
    "\n",
    "# from torch.autograd import Variable (torch.Tensor로 통합됨)"
   ]
  },
  {
   "cell_type": "markdown",
   "id": "0f57f52e",
   "metadata": {},
   "source": [
    "# RNN Basic"
   ]
  },
  {
   "cell_type": "code",
   "execution_count": 32,
   "id": "8c8104f4",
   "metadata": {
    "ExecuteTime": {
     "end_time": "2024-02-14T01:20:47.690723Z",
     "start_time": "2024-02-14T01:20:47.684753Z"
    }
   },
   "outputs": [],
   "source": [
    "h = [1, 0, 0, 0]\n",
    "e = [0, 1, 0, 0]\n",
    "l = [0, 0, 1, 0]\n",
    "o = [0, 0, 0, 1]"
   ]
  },
  {
   "cell_type": "code",
   "execution_count": 33,
   "id": "8e62e9ac",
   "metadata": {
    "ExecuteTime": {
     "end_time": "2024-02-14T01:20:48.110228Z",
     "start_time": "2024-02-14T01:20:48.093119Z"
    }
   },
   "outputs": [
    {
     "name": "stdout",
     "output_type": "stream",
     "text": [
      "one input size torch.Size([1, 1, 4]) out size torch.Size([1, 1, 2])\n",
      "one input size torch.Size([1, 1, 4]) out size torch.Size([1, 1, 2])\n",
      "one input size torch.Size([1, 1, 4]) out size torch.Size([1, 1, 2])\n",
      "one input size torch.Size([1, 1, 4]) out size torch.Size([1, 1, 2])\n",
      "one input size torch.Size([1, 1, 4]) out size torch.Size([1, 1, 2])\n",
      "sequence input size torch.Size([1, 5, 4]) out size torch.Size([1, 5, 2])\n"
     ]
    }
   ],
   "source": [
    "cell = torch.nn.RNN(input_size=4, hidden_size=2, batch_first=True)\n",
    "\n",
    "hidden = torch.randn(1,1,2)\n",
    "\n",
    "\n",
    "#하나만 넣어보는 버전\n",
    "inputs = torch.Tensor([h,e,l,l,o])\n",
    "\n",
    "for one in inputs:\n",
    "    one = one.view(1,1,-1)\n",
    "    out, hidden = cell(one, hidden)\n",
    "    print('one input size', one.size(), 'out size', out.size())\n",
    "    \n",
    "\n",
    "inputs = inputs.view(1,5,-1)\n",
    "out, hidden = cell(inputs, hidden)\n",
    "print('sequence input size', inputs.size(), 'out size', out.size())"
   ]
  },
  {
   "cell_type": "code",
   "execution_count": 34,
   "id": "733a483c",
   "metadata": {
    "ExecuteTime": {
     "end_time": "2024-02-14T01:20:48.874481Z",
     "start_time": "2024-02-14T01:20:48.863912Z"
    }
   },
   "outputs": [
    {
     "name": "stdout",
     "output_type": "stream",
     "text": [
      "batch input size torch.Size([3, 5, 4]) out size torch.Size([3, 5, 2])\n"
     ]
    }
   ],
   "source": [
    "hidden = torch.randn(1, 3, 2)\n",
    "\n",
    "inputs = torch.Tensor([[h, e, l, l, o],\n",
    "                        [e, o, l, l, l],\n",
    "                        [l, l, e, e, l]\n",
    "                        ])\n",
    "\n",
    "out, hidden = cell(inputs, hidden)\n",
    "print('batch input size', inputs.size(), 'out size', out.size())"
   ]
  },
  {
   "cell_type": "code",
   "execution_count": 35,
   "id": "475b7f8c",
   "metadata": {
    "ExecuteTime": {
     "end_time": "2024-02-14T01:20:49.323832Z",
     "start_time": "2024-02-14T01:20:49.307529Z"
    }
   },
   "outputs": [
    {
     "name": "stdout",
     "output_type": "stream",
     "text": [
      "batch input size torch.Size([5, 3, 4]) out size torch.Size([5, 3, 2])\n"
     ]
    }
   ],
   "source": [
    "cell = torch.nn.RNN(input_size=4, hidden_size=2)\n",
    "\n",
    "inputs = inputs.transpose(dim0=0, dim1=1)\n",
    "\n",
    "out, hidden = cell(inputs, hidden)\n",
    "print('batch input size', inputs.size(), 'out size', out.size())"
   ]
  },
  {
   "cell_type": "markdown",
   "id": "a390f61c",
   "metadata": {},
   "source": [
    "# RNN next step"
   ]
  },
  {
   "cell_type": "code",
   "execution_count": 36,
   "id": "acc1af50",
   "metadata": {
    "ExecuteTime": {
     "end_time": "2024-02-14T01:20:50.857258Z",
     "start_time": "2024-02-14T01:20:50.827158Z"
    }
   },
   "outputs": [],
   "source": [
    "torch.manual_seed(777)  # reproducibility\n",
    "\n",
    "#            0    1    2    3    4\n",
    "idx2char = ['h', 'i', 'e', 'l', 'o']\n",
    "\n",
    "# Teach hihell -> ihello\n",
    "x_data = [0, 1, 0, 2, 3, 3]   # hihell\n",
    "\n",
    "one_hot_lookup = [[1, 0, 0, 0, 0],  # 0\n",
    "                  [0, 1, 0, 0, 0],  # 1\n",
    "                  [0, 0, 1, 0, 0],  # 2\n",
    "                  [0, 0, 0, 1, 0],  # 3\n",
    "                  [0, 0, 0, 0, 1]]  # 4\n",
    "\n",
    "y_data = [1, 0, 2, 3, 3, 4]    # ihello\n",
    "x_one_hot = [one_hot_lookup[x] for x in x_data]"
   ]
  },
  {
   "cell_type": "code",
   "execution_count": 37,
   "id": "b688e6eb",
   "metadata": {
    "ExecuteTime": {
     "end_time": "2024-02-14T01:20:51.273203Z",
     "start_time": "2024-02-14T01:20:51.259205Z"
    }
   },
   "outputs": [],
   "source": [
    "# torch.Tensor : float32 data type /  torch.LongTensor : int64 type (정수 레이블 or 색인때 사용)\n",
    "\n",
    "inputs = torch.Tensor(x_one_hot)\n",
    "labels = torch.LongTensor(y_data)\n",
    "\n",
    "num_classes = 5\n",
    "input_size = 5\n",
    "hidden_size = 5\n",
    "batch_size = 1\n",
    "sequence_length = 1 # One by one\n",
    "num_layers = 1 # one-layer rnn"
   ]
  },
  {
   "cell_type": "code",
   "execution_count": 38,
   "id": "d7f3c790",
   "metadata": {
    "ExecuteTime": {
     "end_time": "2024-02-14T01:20:51.906916Z",
     "start_time": "2024-02-14T01:20:51.899894Z"
    }
   },
   "outputs": [],
   "source": [
    "class Model(torch.nn.Module):\n",
    "\n",
    "    def __init__(self):\n",
    "        super(Model, self).__init__()\n",
    "        self.rnn = torch.nn.RNN(input_size=input_size,\n",
    "                                hidden_size=hidden_size,\n",
    "                                batch_first=True)\n",
    "        \n",
    "    def forward(self, hidden, x):\n",
    "        x = x.view(batch_size, sequence_length, input_size) # Reshape input (batch first)\n",
    "        \n",
    "        out, hidden = self.rnn(x, hidden) # hidden: (num_layers * num_directions, batch, hidden_size)\n",
    "        return hidden, out.view(-1, num_classes)\n",
    "    \n",
    "    def init_hidden(self): \n",
    "        return torch.zeros(num_layers, batch_size, hidden_size) \n",
    "    '''\n",
    "    num_layers x batch_size x hidden_size인 모든 요소가 0인 텐서를 생성\n",
    "    순환 신경망의 초기 hidden state 나타내는데 사용\n",
    "    일반적으로 모든 값을 0으로 초기화 후, 시작하는 것이 일반적인 초기화 방법.\n",
    "    모델의 학습이 시작되면서 역전파에 의해 이 값이 조정될 것.\n",
    "    '''\n",
    "    "
   ]
  },
  {
   "cell_type": "code",
   "execution_count": 39,
   "id": "4eeb4a27",
   "metadata": {
    "ExecuteTime": {
     "end_time": "2024-02-14T01:20:52.440996Z",
     "start_time": "2024-02-14T01:20:52.435562Z"
    }
   },
   "outputs": [
    {
     "name": "stdout",
     "output_type": "stream",
     "text": [
      "Model(\n",
      "  (rnn): RNN(5, 5, batch_first=True)\n",
      ")\n"
     ]
    }
   ],
   "source": [
    "model = Model()\n",
    "print(model)\n",
    "\n",
    "criterion = torch.nn.CrossEntropyLoss()\n",
    "optimizer = torch.optim.Adam(model.parameters(), lr=0.1)"
   ]
  },
  {
   "cell_type": "code",
   "execution_count": 40,
   "id": "83457417",
   "metadata": {
    "ExecuteTime": {
     "end_time": "2024-02-14T01:20:53.049591Z",
     "start_time": "2024-02-14T01:20:52.965979Z"
    }
   },
   "outputs": [
    {
     "name": "stdout",
     "output_type": "stream",
     "text": [
      "predicted string: llllll, epoch: 1, loss: 10.155\n",
      "predicted string: llllll, epoch: 2, loss: 9.137\n",
      "predicted string: llllll, epoch: 3, loss: 8.355\n",
      "predicted string: llllll, epoch: 4, loss: 7.577\n",
      "predicted string: llllll, epoch: 5, loss: 6.876\n",
      "predicted string: lhelll, epoch: 6, loss: 6.327\n",
      "predicted string: ihelll, epoch: 7, loss: 6.014\n",
      "predicted string: ihelll, epoch: 8, loss: 5.787\n",
      "predicted string: ihelll, epoch: 9, loss: 5.477\n",
      "predicted string: ihelll, epoch: 10, loss: 5.274\n",
      "predicted string: ihelll, epoch: 11, loss: 5.041\n",
      "predicted string: ihello, epoch: 12, loss: 4.827\n",
      "predicted string: ihello, epoch: 13, loss: 4.676\n",
      "predicted string: ihello, epoch: 14, loss: 4.550\n",
      "predicted string: ihello, epoch: 15, loss: 4.430\n",
      "predicted string: ihello, epoch: 16, loss: 4.305\n",
      "predicted string: ihello, epoch: 17, loss: 4.164\n",
      "predicted string: ihelll, epoch: 18, loss: 4.003\n",
      "predicted string: ihelll, epoch: 19, loss: 3.860\n",
      "predicted string: ihelll, epoch: 20, loss: 3.879\n",
      "learning finished\n"
     ]
    }
   ],
   "source": [
    "for epoch in range(20):\n",
    "    optimizer.zero_grad()\n",
    "    loss = 0\n",
    "    hidden = model.init_hidden()\n",
    "    \n",
    "    sys.stdout.write(\"predicted string: \")\n",
    "    for input, label in zip(inputs, labels):\n",
    "        hidden, output = model(hidden, input) #pytorch에서는 torch.nn.Module로 객체 호출시, forward 메서드 자동 호출\n",
    "        val, idx = output.max(1)\n",
    "        sys.stdout.write(idx2char[idx.data[0]])\n",
    "        loss += criterion(output, torch.LongTensor([label]))\n",
    "    \n",
    "    print(\", epoch: %d, loss: %1.3f\" % (epoch+1, loss))\n",
    "    \n",
    "    loss.backward()\n",
    "    optimizer.step()\n",
    "    \n",
    "print('learning finished')"
   ]
  },
  {
   "cell_type": "markdown",
   "id": "de4bd566",
   "metadata": {},
   "source": [
    "# sequential"
   ]
  },
  {
   "cell_type": "code",
   "execution_count": 61,
   "id": "8150e0dd",
   "metadata": {
    "ExecuteTime": {
     "end_time": "2024-02-14T01:37:42.269882Z",
     "start_time": "2024-02-14T01:37:42.263835Z"
    }
   },
   "outputs": [],
   "source": [
    "#이전보다 x데이터에 [] 하나 더 추가\n",
    "x_data = [[0, 1, 0, 2, 3, 3]]   # hihell\n",
    "x_one_hot = [[[1, 0, 0, 0, 0],   # h 0\n",
    "              [0, 1, 0, 0, 0],   # i 1\n",
    "              [1, 0, 0, 0, 0],   # h 0\n",
    "              [0, 0, 1, 0, 0],   # e 2\n",
    "              [0, 0, 0, 1, 0],   # l 3\n",
    "              [0, 0, 0, 1, 0]]]  # l 3\n",
    "\n",
    "y_data = [1, 0, 2, 3, 3, 4]    # ihello\n",
    "\n",
    "inputs = torch.Tensor(x_one_hot)\n",
    "labels = torch.LongTensor(y_data)\n",
    "\n",
    "sequence_length = 6  # |ihello| == 6"
   ]
  },
  {
   "cell_type": "code",
   "execution_count": 62,
   "id": "d260dbca",
   "metadata": {
    "ExecuteTime": {
     "end_time": "2024-02-14T01:37:42.825815Z",
     "start_time": "2024-02-14T01:37:42.819186Z"
    }
   },
   "outputs": [
    {
     "name": "stdout",
     "output_type": "stream",
     "text": [
      "RNN(\n",
      "  (rnn): RNN(5, 5, batch_first=True)\n",
      ")\n"
     ]
    }
   ],
   "source": [
    "class RNN(torch.nn.Module):\n",
    "    \n",
    "    def __init__(self, num_classes, input_size, hidden_size, num_layers):\n",
    "        super(RNN, self).__init__()\n",
    "        \n",
    "        self.num_classes = num_classes\n",
    "        self.num_layers = num_layers\n",
    "        self.input_size = input_size\n",
    "        self.hidden_size = hidden_size\n",
    "        self.sequence_length = sequence_length\n",
    "        \n",
    "        self.rnn = torch.nn.RNN(input_size = 5,\n",
    "                               hidden_size = 5,\n",
    "                               batch_first = True)\n",
    "        \n",
    "    def forward(self, x):\n",
    "        h_0 = torch.zeros(\n",
    "            self.num_layers, x.size(0), self.hidden_size)\n",
    "        \n",
    "        x.view(x.size(0), self.sequence_length, self.input_size) # Reshape input (batch, sequence, input)\n",
    "        \n",
    "        out, _ = self.rnn(x, h_0)\n",
    "        return out.view(-1, num_classes)\n",
    "    \n",
    "rnn = RNN(num_classes, input_size, hidden_size, num_layers)\n",
    "print(rnn)"
   ]
  },
  {
   "cell_type": "code",
   "execution_count": 71,
   "id": "f19c598e",
   "metadata": {
    "ExecuteTime": {
     "end_time": "2024-02-14T01:38:51.005373Z",
     "start_time": "2024-02-14T01:38:50.943496Z"
    },
    "scrolled": true
   },
   "outputs": [
    {
     "name": "stdout",
     "output_type": "stream",
     "text": [
      "epoch: 1, loss: 0.565\n",
      "Predicted string:  ihello\n",
      "epoch: 2, loss: 0.535\n",
      "Predicted string:  ihello\n",
      "epoch: 3, loss: 0.530\n",
      "Predicted string:  ihello\n",
      "epoch: 4, loss: 0.525\n",
      "Predicted string:  ihello\n",
      "epoch: 5, loss: 0.526\n",
      "Predicted string:  ihello\n",
      "epoch: 6, loss: 0.524\n",
      "Predicted string:  ihello\n",
      "epoch: 7, loss: 0.518\n",
      "Predicted string:  ihello\n",
      "epoch: 8, loss: 0.515\n",
      "Predicted string:  ihello\n",
      "epoch: 9, loss: 0.512\n",
      "Predicted string:  ihello\n",
      "epoch: 10, loss: 0.510\n",
      "Predicted string:  ihello\n",
      "epoch: 11, loss: 0.507\n",
      "Predicted string:  ihello\n",
      "epoch: 12, loss: 0.504\n",
      "Predicted string:  ihello\n",
      "epoch: 13, loss: 0.501\n",
      "Predicted string:  ihello\n",
      "epoch: 14, loss: 0.497\n",
      "Predicted string:  ihello\n",
      "epoch: 15, loss: 0.497\n",
      "Predicted string:  ihello\n",
      "epoch: 16, loss: 0.494\n",
      "Predicted string:  ihello\n",
      "epoch: 17, loss: 0.493\n",
      "Predicted string:  ihello\n",
      "epoch: 18, loss: 0.494\n",
      "Predicted string:  ihello\n",
      "epoch: 19, loss: 0.492\n",
      "Predicted string:  ihello\n",
      "epoch: 20, loss: 0.489\n",
      "Predicted string:  ihello\n",
      "Learning finished!\n"
     ]
    }
   ],
   "source": [
    "criterion = torch.nn.CrossEntropyLoss()\n",
    "optimizer = torch.optim.Adam(rnn.parameters(), lr=0.1)\n",
    "\n",
    "for epoch in range(20):\n",
    "    outputs = rnn(inputs)\n",
    "    optimizer.zero_grad()\n",
    "    loss = criterion(outputs, labels)\n",
    "    loss.backward()\n",
    "    optimizer.step()\n",
    "    _, idx = outputs.max(1)\n",
    "    idx = idx.data.numpy()\n",
    "    result_str = [idx2char[c] for c in idx.squeeze()] \n",
    "    # .squeeze( : 텐서 크기 줄이기 -> 차원크기 1인 차원 제거\n",
    "    # ex) (1, 2, 3)과 같은 크기의 텐서를 (2, 3)으로 바꿔줍니다.\n",
    "    \n",
    "    print(\"epoch: %d, loss: %1.3f\" % (epoch + 1, loss.data))\n",
    "    print(\"Predicted string: \", ''.join(result_str))\n",
    "\n",
    "print(\"Learning finished!\")"
   ]
  },
  {
   "cell_type": "markdown",
   "id": "791c37b8",
   "metadata": {},
   "source": [
    "# emsemble"
   ]
  },
  {
   "cell_type": "code",
   "execution_count": 4,
   "id": "369b3fb8",
   "metadata": {
    "ExecuteTime": {
     "end_time": "2024-02-22T01:36:04.641700Z",
     "start_time": "2024-02-22T01:36:04.636714Z"
    }
   },
   "outputs": [],
   "source": [
    "idx2char = ['h', 'i', 'e', 'l', 'o']\n",
    "\n",
    "# Teach hihell -> ihello\n",
    "x_data = [[0, 1, 0, 2, 3, 3]]   # hihell\n",
    "y_data = [1, 0, 2, 3, 3, 4]    # ihello\n",
    "\n",
    "# As we have one batch of samples, we will change them to variables only once\n",
    "inputs = torch.LongTensor(x_data)\n",
    "labels = torch.LongTensor(y_data)\n",
    "\n",
    "num_classes = 5\n",
    "input_size = 5\n",
    "embedding_size = 10  # embedding size\n",
    "hidden_size = 5  # output from the LSTM. 5 to directly predict one-hot\n",
    "batch_size = 1   # one sentence\n",
    "sequence_length = 6  # |ihello| == 6\n",
    "num_layers = 1  # one-layer rnn"
   ]
  },
  {
   "cell_type": "code",
   "execution_count": 5,
   "id": "eaa33376",
   "metadata": {
    "ExecuteTime": {
     "end_time": "2024-02-22T01:36:06.311575Z",
     "start_time": "2024-02-22T01:36:06.290341Z"
    }
   },
   "outputs": [
    {
     "name": "stdout",
     "output_type": "stream",
     "text": [
      "em_Model(\n",
      "  (embedding): Embedding(5, 10)\n",
      "  (rnn): RNN(10, 5, batch_first=True)\n",
      "  (fc): Linear(in_features=5, out_features=5, bias=True)\n",
      ")\n"
     ]
    }
   ],
   "source": [
    "class em_Model(torch.nn.Module):\n",
    "    \n",
    "    def __init__(self, num_layers, hidden_size):\n",
    "        super(em_Model, self).__init__()\n",
    "        self.num_layers = num_layers\n",
    "        self.hidden_size = hidden_size\n",
    "        self.embedding = torch.nn.Embedding(input_size, embedding_size)\n",
    "        self.rnn = torch.nn.RNN(input_size = embedding_size, hidden_size = 5, batch_first = True)\n",
    "        self.fc = torch.nn.Linear(hidden_size, num_classes)\n",
    "        \n",
    "    def forward(self, x):\n",
    "        h_0 = torch.zeros(self.num_layers, x.size(0), self.hidden_size)\n",
    "        \n",
    "        emb = self.embedding(x)\n",
    "        emb = emb.view(batch_size, sequence_length, -1)\n",
    "        \n",
    "        out, _ = self.rnn(emb, h_0)\n",
    "        return self.fc(out.view(-1, num_classes))\n",
    "\n",
    "model = em_Model(num_layers, hidden_size)\n",
    "print(model)"
   ]
  },
  {
   "cell_type": "code",
   "execution_count": 6,
   "id": "77452498",
   "metadata": {
    "ExecuteTime": {
     "end_time": "2024-02-22T01:36:09.012748Z",
     "start_time": "2024-02-22T01:36:06.951799Z"
    }
   },
   "outputs": [
    {
     "name": "stdout",
     "output_type": "stream",
     "text": [
      "epoch: 1, loss: 1.793\n",
      "Predicted string:  eieeei\n",
      "epoch: 2, loss: 1.410\n",
      "Predicted string:  eielll\n",
      "epoch: 3, loss: 1.237\n",
      "Predicted string:  lhelll\n",
      "epoch: 4, loss: 1.072\n",
      "Predicted string:  hhhlll\n",
      "epoch: 5, loss: 0.885\n",
      "Predicted string:  hhhlll\n",
      "epoch: 6, loss: 0.755\n",
      "Predicted string:  hhhllo\n",
      "epoch: 7, loss: 0.651\n",
      "Predicted string:  ihello\n",
      "epoch: 8, loss: 0.549\n",
      "Predicted string:  ihello\n",
      "epoch: 9, loss: 0.460\n",
      "Predicted string:  ihello\n",
      "epoch: 10, loss: 0.393\n",
      "Predicted string:  ihello\n",
      "epoch: 11, loss: 0.341\n",
      "Predicted string:  ihello\n",
      "epoch: 12, loss: 0.289\n",
      "Predicted string:  ihello\n",
      "epoch: 13, loss: 0.239\n",
      "Predicted string:  ihello\n",
      "epoch: 14, loss: 0.197\n",
      "Predicted string:  ihello\n",
      "epoch: 15, loss: 0.165\n",
      "Predicted string:  ihello\n",
      "epoch: 16, loss: 0.138\n",
      "Predicted string:  ihello\n",
      "epoch: 17, loss: 0.116\n",
      "Predicted string:  ihello\n",
      "epoch: 18, loss: 0.097\n",
      "Predicted string:  ihello\n",
      "epoch: 19, loss: 0.081\n",
      "Predicted string:  ihello\n",
      "epoch: 20, loss: 0.069\n",
      "Predicted string:  ihello\n",
      "Learning finished!\n"
     ]
    }
   ],
   "source": [
    "criterion = torch.nn.CrossEntropyLoss()\n",
    "optimizer = torch.optim.Adam(model.parameters(), lr=0.1)\n",
    "\n",
    "for epoch in range(20):\n",
    "    outputs = model(inputs)\n",
    "    optimizer.zero_grad()\n",
    "    loss = criterion(outputs, labels)\n",
    "    loss.backward()\n",
    "    optimizer.step()\n",
    "    _, idx = outputs.max(1)\n",
    "    idx = idx.data.numpy()\n",
    "    result_str = [idx2char[c] for c in idx.squeeze()]\n",
    "    print(\"epoch: %d, loss: %1.3f\" % (epoch + 1, loss.item()))\n",
    "    print(\"Predicted string: \", ''.join(result_str))\n",
    "\n",
    "print(\"Learning finished!\")"
   ]
  },
  {
   "cell_type": "code",
   "execution_count": null,
   "id": "386d534b",
   "metadata": {},
   "outputs": [],
   "source": []
  }
 ],
 "metadata": {
  "hide_input": false,
  "kernelspec": {
   "display_name": "Python 3 (ipykernel)",
   "language": "python",
   "name": "python3"
  },
  "language_info": {
   "codemirror_mode": {
    "name": "ipython",
    "version": 3
   },
   "file_extension": ".py",
   "mimetype": "text/x-python",
   "name": "python",
   "nbconvert_exporter": "python",
   "pygments_lexer": "ipython3",
   "version": "3.9.7"
  },
  "toc": {
   "base_numbering": 1,
   "nav_menu": {},
   "number_sections": true,
   "sideBar": true,
   "skip_h1_title": false,
   "title_cell": "Table of Contents",
   "title_sidebar": "Contents",
   "toc_cell": false,
   "toc_position": {
    "height": "calc(100% - 180px)",
    "left": "10px",
    "top": "150px",
    "width": "272.6px"
   },
   "toc_section_display": true,
   "toc_window_display": true
  },
  "varInspector": {
   "cols": {
    "lenName": 16,
    "lenType": 16,
    "lenVar": 40
   },
   "kernels_config": {
    "python": {
     "delete_cmd_postfix": "",
     "delete_cmd_prefix": "del ",
     "library": "var_list.py",
     "varRefreshCmd": "print(var_dic_list())"
    },
    "r": {
     "delete_cmd_postfix": ") ",
     "delete_cmd_prefix": "rm(",
     "library": "var_list.r",
     "varRefreshCmd": "cat(var_dic_list()) "
    }
   },
   "types_to_exclude": [
    "module",
    "function",
    "builtin_function_or_method",
    "instance",
    "_Feature"
   ],
   "window_display": false
  }
 },
 "nbformat": 4,
 "nbformat_minor": 5
}
